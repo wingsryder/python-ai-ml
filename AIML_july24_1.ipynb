{
  "nbformat": 4,
  "nbformat_minor": 0,
  "metadata": {
    "colab": {
      "provenance": [],
      "include_colab_link": true
    },
    "kernelspec": {
      "name": "python3",
      "display_name": "Python 3"
    },
    "language_info": {
      "name": "python"
    }
  },
  "cells": [
    {
      "cell_type": "markdown",
      "metadata": {
        "id": "view-in-github",
        "colab_type": "text"
      },
      "source": [
        "<a href=\"https://colab.research.google.com/github/wingsryder/python-ai-ml/blob/main/AIML_july24_1.ipynb\" target=\"_parent\"><img src=\"https://colab.research.google.com/assets/colab-badge.svg\" alt=\"Open In Colab\"/></a>"
      ]
    },
    {
      "cell_type": "markdown",
      "source": [
        "#Python Programming"
      ],
      "metadata": {
        "id": "HHnz1cPY5ToX"
      }
    },
    {
      "cell_type": "markdown",
      "source": [
        "* datatype\n",
        "* variables\n",
        "* conditional statement (if/else,) looping constructs"
      ],
      "metadata": {
        "id": "FfDaP6Sl5JQA"
      }
    },
    {
      "cell_type": "markdown",
      "source": [
        "### variables/literals"
      ],
      "metadata": {
        "id": "DXAdgK5g5XFP"
      }
    },
    {
      "cell_type": "code",
      "execution_count": null,
      "metadata": {
        "colab": {
          "base_uri": "https://localhost:8080/"
        },
        "id": "Kpkc0j0C3jeA",
        "outputId": "71bb7427-bb1b-488d-d3ad-d371742a7d78"
      },
      "outputs": [
        {
          "output_type": "stream",
          "name": "stdout",
          "text": [
            "10 <class 'int'>\n"
          ]
        }
      ],
      "source": [
        "a = 10\n",
        "print(a , type(a))\n",
        "# type  is a system defined method or function"
      ]
    },
    {
      "cell_type": "code",
      "source": [
        "a = \"APJ Kalam\"\n",
        "print(a , type(a))"
      ],
      "metadata": {
        "colab": {
          "base_uri": "https://localhost:8080/"
        },
        "id": "H_8Mep1n5vwW",
        "outputId": "c9431236-124a-421a-eccd-1493d98cf435"
      },
      "execution_count": null,
      "outputs": [
        {
          "output_type": "stream",
          "name": "stdout",
          "text": [
            "APJ Kalam <class 'str'>\n"
          ]
        }
      ]
    },
    {
      "cell_type": "code",
      "source": [
        "a = 250.50\n",
        "print(a , type(a))"
      ],
      "metadata": {
        "colab": {
          "base_uri": "https://localhost:8080/"
        },
        "id": "MYGnPHoX5vzG",
        "outputId": "ea2c9713-2466-4d2d-8286-454e6fa53be9"
      },
      "execution_count": null,
      "outputs": [
        {
          "output_type": "stream",
          "name": "stdout",
          "text": [
            "250.5 <class 'float'>\n"
          ]
        }
      ]
    },
    {
      "cell_type": "markdown",
      "source": [
        "### addressing\n"
      ],
      "metadata": {
        "id": "LOYJvnce9f2X"
      }
    },
    {
      "cell_type": "code",
      "source": [
        "b=20\n",
        "print(id(b),b)"
      ],
      "metadata": {
        "colab": {
          "base_uri": "https://localhost:8080/"
        },
        "id": "q0DW-9yO9kPO",
        "outputId": "139d9f8c-4105-45af-caf0-38dfe6e75451"
      },
      "execution_count": null,
      "outputs": [
        {
          "output_type": "stream",
          "name": "stdout",
          "text": [
            "133889383564112 20\n"
          ]
        }
      ]
    },
    {
      "cell_type": "code",
      "source": [
        "c=20\n",
        "print(id(c),c)"
      ],
      "metadata": {
        "colab": {
          "base_uri": "https://localhost:8080/"
        },
        "id": "WPgmOSbb9kSG",
        "outputId": "0a88f376-6c68-4f25-e48d-166f3fc5500b"
      },
      "execution_count": null,
      "outputs": [
        {
          "output_type": "stream",
          "name": "stdout",
          "text": [
            "133889383564112 20\n"
          ]
        }
      ]
    },
    {
      "cell_type": "code",
      "source": [
        "d=b\n",
        "print(id(d),d)"
      ],
      "metadata": {
        "colab": {
          "base_uri": "https://localhost:8080/"
        },
        "id": "EIA22OEb9vKg",
        "outputId": "80f3d0b5-27d4-40e3-d2ba-3b9b69feef6a"
      },
      "execution_count": null,
      "outputs": [
        {
          "output_type": "stream",
          "name": "stdout",
          "text": [
            "133889383564112 20\n"
          ]
        }
      ]
    },
    {
      "cell_type": "code",
      "source": [
        "#camel casing / hungarian notation\n",
        "kamalAge = 60-40\n",
        "print(kamalAge , id(kamalAge))"
      ],
      "metadata": {
        "colab": {
          "base_uri": "https://localhost:8080/"
        },
        "id": "azey2VWC9vNP",
        "outputId": "8c99a4dc-1324-459a-8f18-70bce48e1744"
      },
      "execution_count": null,
      "outputs": [
        {
          "output_type": "stream",
          "name": "stdout",
          "text": [
            "20 133889383564112\n"
          ]
        }
      ]
    },
    {
      "cell_type": "code",
      "source": [
        "d=d+10\n",
        "print(id(d),d)"
      ],
      "metadata": {
        "colab": {
          "base_uri": "https://localhost:8080/"
        },
        "id": "xhxOsxOt-QaJ",
        "outputId": "e0bd7df7-d247-4441-e45c-dc5e07e82024"
      },
      "execution_count": null,
      "outputs": [
        {
          "output_type": "stream",
          "name": "stdout",
          "text": [
            "133889383564432 30\n"
          ]
        }
      ]
    },
    {
      "cell_type": "code",
      "source": [
        "d=d-10\n",
        "print(id(d),d)"
      ],
      "metadata": {
        "colab": {
          "base_uri": "https://localhost:8080/"
        },
        "id": "ezz1HE3m-XQJ",
        "outputId": "f62dc72d-fb1b-488c-bf3c-3c49b115cf5e"
      },
      "execution_count": null,
      "outputs": [
        {
          "output_type": "stream",
          "name": "stdout",
          "text": [
            "133889383564112 20\n"
          ]
        }
      ]
    },
    {
      "cell_type": "code",
      "source": [
        "print (c)"
      ],
      "metadata": {
        "colab": {
          "base_uri": "https://localhost:8080/"
        },
        "id": "TMcGbMT1-Qc0",
        "outputId": "a4561334-7130-4ffa-85fd-c99bef11411a"
      },
      "execution_count": null,
      "outputs": [
        {
          "output_type": "stream",
          "name": "stdout",
          "text": [
            "20\n"
          ]
        }
      ]
    },
    {
      "cell_type": "code",
      "source": [
        "del c\n",
        "print(c)"
      ],
      "metadata": {
        "colab": {
          "base_uri": "https://localhost:8080/",
          "height": 162
        },
        "id": "qEP8HJr2A4LP",
        "outputId": "44a48d0c-cdc7-4e50-a443-f1c84d3cec05"
      },
      "execution_count": null,
      "outputs": [
        {
          "output_type": "error",
          "ename": "NameError",
          "evalue": "name 'c' is not defined",
          "traceback": [
            "\u001b[0;31m---------------------------------------------------------------------------\u001b[0m",
            "\u001b[0;31mNameError\u001b[0m                                 Traceback (most recent call last)",
            "\u001b[0;32m<ipython-input-14-786e282091dd>\u001b[0m in \u001b[0;36m<cell line: 2>\u001b[0;34m()\u001b[0m\n\u001b[1;32m      1\u001b[0m \u001b[0;32mdel\u001b[0m \u001b[0mc\u001b[0m\u001b[0;34m\u001b[0m\u001b[0;34m\u001b[0m\u001b[0m\n\u001b[0;32m----> 2\u001b[0;31m \u001b[0mprint\u001b[0m\u001b[0;34m(\u001b[0m\u001b[0mc\u001b[0m\u001b[0;34m)\u001b[0m\u001b[0;34m\u001b[0m\u001b[0;34m\u001b[0m\u001b[0m\n\u001b[0m",
            "\u001b[0;31mNameError\u001b[0m: name 'c' is not defined"
          ]
        }
      ]
    },
    {
      "cell_type": "code",
      "source": [
        "m=1;n=2;o=3;\n",
        "print(m,n,o);"
      ],
      "metadata": {
        "colab": {
          "base_uri": "https://localhost:8080/"
        },
        "id": "1s2F0uwfBT-5",
        "outputId": "12b5e02a-0848-4cc2-997e-f434ba5a4fad"
      },
      "execution_count": null,
      "outputs": [
        {
          "output_type": "stream",
          "name": "stdout",
          "text": [
            "1 2 3\n"
          ]
        }
      ]
    },
    {
      "cell_type": "code",
      "source": [
        "a=10\n",
        "b=20\n",
        "c=39\n",
        "print(a,b,c)"
      ],
      "metadata": {
        "colab": {
          "base_uri": "https://localhost:8080/"
        },
        "id": "FxTPtzAwBjGv",
        "outputId": "4aad28d0-f0aa-4c58-b186-7fe4f8b0ad96"
      },
      "execution_count": null,
      "outputs": [
        {
          "output_type": "stream",
          "name": "stdout",
          "text": [
            "10 20 39\n"
          ]
        }
      ]
    },
    {
      "cell_type": "code",
      "source": [
        "a = 2+3j\n",
        "print(a , type(a))\n",
        "b=-10-8j\n",
        "print(b , type(b))"
      ],
      "metadata": {
        "colab": {
          "base_uri": "https://localhost:8080/"
        },
        "id": "MbTFPOlADcAh",
        "outputId": "c5eb6e46-4e37-42d4-ce72-c3526224907e"
      },
      "execution_count": null,
      "outputs": [
        {
          "output_type": "stream",
          "name": "stdout",
          "text": [
            "(2+3j) <class 'complex'>\n",
            "(-10-8j) <class 'complex'>\n"
          ]
        }
      ]
    },
    {
      "cell_type": "code",
      "source": [
        "a-b"
      ],
      "metadata": {
        "colab": {
          "base_uri": "https://localhost:8080/"
        },
        "id": "a5XOoBFzDcG_",
        "outputId": "6b4e7a21-2c4a-4c37-dff6-6aea7d595576"
      },
      "execution_count": null,
      "outputs": [
        {
          "output_type": "execute_result",
          "data": {
            "text/plain": [
              "(12+11j)"
            ]
          },
          "metadata": {},
          "execution_count": 21
        }
      ]
    },
    {
      "cell_type": "markdown",
      "source": [
        "### Operators"
      ],
      "metadata": {
        "id": "BbNHiMfnED7I"
      }
    },
    {
      "cell_type": "code",
      "source": [
        "n1 = 10\n",
        "n1 = 20 + n1\n",
        "print(n1)"
      ],
      "metadata": {
        "colab": {
          "base_uri": "https://localhost:8080/"
        },
        "id": "vaIKT4U9EHMJ",
        "outputId": "f3266545-67dd-4272-f550-54d014d21300"
      },
      "execution_count": null,
      "outputs": [
        {
          "output_type": "stream",
          "name": "stdout",
          "text": [
            "30\n"
          ]
        }
      ]
    },
    {
      "cell_type": "code",
      "source": [
        "n1 += 10\n",
        "print(n1)"
      ],
      "metadata": {
        "colab": {
          "base_uri": "https://localhost:8080/"
        },
        "id": "gymOF17mEHQy",
        "outputId": "0c07fe37-c456-4bf0-db6e-ae28e0697a57"
      },
      "execution_count": null,
      "outputs": [
        {
          "output_type": "stream",
          "name": "stdout",
          "text": [
            "40\n"
          ]
        }
      ]
    },
    {
      "cell_type": "code",
      "source": [
        "n1 = 10  # 1010\n",
        "n2 = 5   # 0101\n",
        "print(n1 & n2)"
      ],
      "metadata": {
        "colab": {
          "base_uri": "https://localhost:8080/"
        },
        "id": "52LlNvwjFAW6",
        "outputId": "d559323b-32e0-4def-bf5f-5d94e83ed3d3"
      },
      "execution_count": null,
      "outputs": [
        {
          "output_type": "stream",
          "name": "stdout",
          "text": [
            "0\n"
          ]
        }
      ]
    },
    {
      "cell_type": "code",
      "source": [
        "print(n1 | n2)\n"
      ],
      "metadata": {
        "colab": {
          "base_uri": "https://localhost:8080/"
        },
        "id": "k_VStb_jFAaI",
        "outputId": "f9f8c225-13dc-4e70-f2c1-21d26525b3c0"
      },
      "execution_count": null,
      "outputs": [
        {
          "output_type": "stream",
          "name": "stdout",
          "text": [
            "15\n"
          ]
        }
      ]
    },
    {
      "cell_type": "code",
      "source": [
        "n3=27\n",
        "n4=2\n",
        "n5= n3 ^ n4\n",
        "print(n5)"
      ],
      "metadata": {
        "colab": {
          "base_uri": "https://localhost:8080/"
        },
        "id": "Gg0CPRnFI72B",
        "outputId": "52fec30a-3d39-4833-8965-6115175b1d37"
      },
      "execution_count": null,
      "outputs": [
        {
          "output_type": "stream",
          "name": "stdout",
          "text": [
            "25\n"
          ]
        }
      ]
    },
    {
      "cell_type": "code",
      "source": [
        "n6= n5 ^ n4\n",
        "print(n6)\n",
        "# staircase connection"
      ],
      "metadata": {
        "colab": {
          "base_uri": "https://localhost:8080/"
        },
        "id": "fJrcxNvPJmel",
        "outputId": "99835065-7180-458e-aff6-495815fa1b8b"
      },
      "execution_count": null,
      "outputs": [
        {
          "output_type": "stream",
          "name": "stdout",
          "text": [
            "27\n"
          ]
        }
      ]
    },
    {
      "cell_type": "code",
      "source": [
        "print (n3)\n",
        "print( n3>>1 )"
      ],
      "metadata": {
        "colab": {
          "base_uri": "https://localhost:8080/"
        },
        "id": "1pBn94zJJmhk",
        "outputId": "b44f3e09-cdd5-434b-911c-641349f93892"
      },
      "execution_count": null,
      "outputs": [
        {
          "output_type": "stream",
          "name": "stdout",
          "text": [
            "27\n",
            "13\n"
          ]
        }
      ]
    },
    {
      "cell_type": "code",
      "source": [
        "print(27<<1 , 27<<2 , 27<<3)\n"
      ],
      "metadata": {
        "colab": {
          "base_uri": "https://localhost:8080/"
        },
        "id": "YJP9PRdnI74k",
        "outputId": "0b611721-d2d6-4501-cef3-608d2d9034b4"
      },
      "execution_count": null,
      "outputs": [
        {
          "output_type": "stream",
          "name": "stdout",
          "text": [
            "54 108 216\n"
          ]
        }
      ]
    },
    {
      "cell_type": "code",
      "source": [
        "# show me how much time 27<<1 takes to execute\n",
        "import time\n",
        "start = time.time()\n",
        "print(27<<1)\n",
        "end = time.time()\n",
        "print(end-start)"
      ],
      "metadata": {
        "colab": {
          "base_uri": "https://localhost:8080/"
        },
        "id": "1O3aEleVLBVi",
        "outputId": "590e20ad-0b7d-40bf-af18-bbc805e90d5c"
      },
      "execution_count": null,
      "outputs": [
        {
          "output_type": "stream",
          "name": "stdout",
          "text": [
            "54\n",
            "0.0019843578338623047\n"
          ]
        }
      ]
    },
    {
      "cell_type": "code",
      "source": [
        "start = time.time()\n",
        "n3=27\n",
        "print(n3 *2)\n",
        "end = time.time()\n",
        "print(end-start)"
      ],
      "metadata": {
        "colab": {
          "base_uri": "https://localhost:8080/"
        },
        "id": "Rcg5ihNBLTTQ",
        "outputId": "7beee442-385a-4fac-f3f7-87e222e81ef9"
      },
      "execution_count": null,
      "outputs": [
        {
          "output_type": "stream",
          "name": "stdout",
          "text": [
            "54\n",
            "0.00020384788513183594\n"
          ]
        }
      ]
    },
    {
      "cell_type": "code",
      "source": [
        "n3=27\n",
        "print (n3, ~n3)"
      ],
      "metadata": {
        "colab": {
          "base_uri": "https://localhost:8080/"
        },
        "id": "TTKmcw5DMhnU",
        "outputId": "1b310d73-543f-47a5-f6cd-658cb748f89c"
      },
      "execution_count": null,
      "outputs": [
        {
          "output_type": "stream",
          "name": "stdout",
          "text": [
            "27 -28\n"
          ]
        }
      ]
    },
    {
      "cell_type": "markdown",
      "source": [
        "### conditional Statements"
      ],
      "metadata": {
        "id": "g_UM7_bm5FjY"
      }
    },
    {
      "cell_type": "code",
      "source": [
        "#\n"
      ],
      "metadata": {
        "id": "WKt71ukG30nR"
      },
      "execution_count": null,
      "outputs": []
    },
    {
      "cell_type": "markdown",
      "source": [
        "###Looping constructs"
      ],
      "metadata": {
        "id": "mLQFz9vE5gPN"
      }
    },
    {
      "cell_type": "code",
      "source": [],
      "metadata": {
        "id": "yh3ms9fBC2A5"
      },
      "execution_count": null,
      "outputs": []
    },
    {
      "cell_type": "code",
      "source": [],
      "metadata": {
        "id": "QqHLXOez5lIP"
      },
      "execution_count": null,
      "outputs": []
    }
  ]
}