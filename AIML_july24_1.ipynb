{
 "cells": [
  {
   "cell_type": "markdown",
   "id": "dc6f5133",
   "metadata": {},
   "source": [
    "#### Python Programming "
   ]
  },
  {
   "cell_type": "code",
   "execution_count": 1,
   "id": "28431a60",
   "metadata": {},
   "outputs": [],
   "source": [
    "x=5"
   ]
  },
  {
   "cell_type": "code",
   "execution_count": 2,
   "id": "13d6defd",
   "metadata": {},
   "outputs": [],
   "source": [
    "y=15"
   ]
  },
  {
   "cell_type": "code",
   "execution_count": 3,
   "id": "e5091257",
   "metadata": {},
   "outputs": [
    {
     "data": {
      "text/plain": [
       "int"
      ]
     },
     "execution_count": 3,
     "metadata": {},
     "output_type": "execute_result"
    }
   ],
   "source": [
    "type(x)"
   ]
  },
  {
   "cell_type": "code",
   "execution_count": 4,
   "id": "df5c66b8",
   "metadata": {},
   "outputs": [
    {
     "name": "stdout",
     "output_type": "stream",
     "text": [
      "5\n"
     ]
    }
   ],
   "source": [
    "print(x)"
   ]
  },
  {
   "cell_type": "code",
   "execution_count": 5,
   "id": "bb92a10d",
   "metadata": {},
   "outputs": [
    {
     "data": {
      "text/plain": [
       "1288463083952"
      ]
     },
     "execution_count": 5,
     "metadata": {},
     "output_type": "execute_result"
    }
   ],
   "source": [
    "id(x)"
   ]
  },
  {
   "cell_type": "code",
   "execution_count": 6,
   "id": "d4d6cfa5",
   "metadata": {},
   "outputs": [],
   "source": [
    "s = 'nielit'"
   ]
  },
  {
   "cell_type": "code",
   "execution_count": 7,
   "id": "29feb072",
   "metadata": {},
   "outputs": [],
   "source": [
    "z = 5.6"
   ]
  },
  {
   "cell_type": "code",
   "execution_count": 8,
   "id": "e9da6703",
   "metadata": {},
   "outputs": [
    {
     "name": "stdout",
     "output_type": "stream",
     "text": [
      "5 15 5.6\n"
     ]
    }
   ],
   "source": [
    "print(x, y,z)"
   ]
  },
  {
   "cell_type": "code",
   "execution_count": 10,
   "id": "18ac00b1",
   "metadata": {},
   "outputs": [
    {
     "name": "stdout",
     "output_type": "stream",
     "text": [
      "5--15--5.6\n"
     ]
    }
   ],
   "source": [
    "print(x, y,z, sep='--')"
   ]
  },
  {
   "cell_type": "code",
   "execution_count": 12,
   "id": "adcb9d3d",
   "metadata": {},
   "outputs": [
    {
     "name": "stdout",
     "output_type": "stream",
     "text": [
      "Hello Welcome\n"
     ]
    }
   ],
   "source": [
    "print('Hello',end='\\n')\n",
    "print('Welcome')"
   ]
  },
  {
   "cell_type": "markdown",
   "id": "fd13da0f",
   "metadata": {},
   "source": [
    "###### Python Data Types"
   ]
  },
  {
   "cell_type": "code",
   "execution_count": null,
   "id": "d75bbe3a",
   "metadata": {},
   "outputs": [],
   "source": [
    "1.int\n",
    "2.float\n",
    "3.sequence-> string, list, tuple\n",
    "4.dictionary\n",
    "5.bool"
   ]
  },
  {
   "cell_type": "markdown",
   "id": "4631907a",
   "metadata": {},
   "source": [
    "#### Mutable and immutable variables"
   ]
  },
  {
   "cell_type": "code",
   "execution_count": 13,
   "id": "934d6a08",
   "metadata": {},
   "outputs": [],
   "source": [
    "a = 10"
   ]
  },
  {
   "cell_type": "code",
   "execution_count": 14,
   "id": "752fdb1a",
   "metadata": {},
   "outputs": [
    {
     "data": {
      "text/plain": [
       "1288463084112"
      ]
     },
     "execution_count": 14,
     "metadata": {},
     "output_type": "execute_result"
    }
   ],
   "source": [
    "id(a)"
   ]
  },
  {
   "cell_type": "code",
   "execution_count": 15,
   "id": "40f339b4",
   "metadata": {},
   "outputs": [],
   "source": [
    "b = a"
   ]
  },
  {
   "cell_type": "code",
   "execution_count": 16,
   "id": "f7de20a4",
   "metadata": {},
   "outputs": [
    {
     "data": {
      "text/plain": [
       "1288463084112"
      ]
     },
     "execution_count": 16,
     "metadata": {},
     "output_type": "execute_result"
    }
   ],
   "source": [
    "id(b)"
   ]
  },
  {
   "cell_type": "code",
   "execution_count": 17,
   "id": "97b8512b",
   "metadata": {},
   "outputs": [],
   "source": [
    "a=a+b"
   ]
  },
  {
   "cell_type": "code",
   "execution_count": 18,
   "id": "d3d12373",
   "metadata": {},
   "outputs": [
    {
     "name": "stdout",
     "output_type": "stream",
     "text": [
      "20\n"
     ]
    }
   ],
   "source": [
    "print(a)"
   ]
  },
  {
   "cell_type": "code",
   "execution_count": 19,
   "id": "54ae049f",
   "metadata": {},
   "outputs": [
    {
     "data": {
      "text/plain": [
       "1288463084432"
      ]
     },
     "execution_count": 19,
     "metadata": {},
     "output_type": "execute_result"
    }
   ],
   "source": [
    "id(a)"
   ]
  },
  {
   "cell_type": "code",
   "execution_count": 20,
   "id": "9942ba8f",
   "metadata": {},
   "outputs": [
    {
     "data": {
      "text/plain": [
       "1288463084112"
      ]
     },
     "execution_count": 20,
     "metadata": {},
     "output_type": "execute_result"
    }
   ],
   "source": [
    "id(b)"
   ]
  },
  {
   "cell_type": "markdown",
   "id": "837f166b",
   "metadata": {},
   "source": [
    "#### input()"
   ]
  },
  {
   "cell_type": "code",
   "execution_count": 24,
   "id": "1c79d7cb",
   "metadata": {
    "scrolled": true
   },
   "outputs": [
    {
     "name": "stdout",
     "output_type": "stream",
     "text": [
      "Enter first number: 15\n",
      "Enter second number: 30\n",
      "Result = 45\n"
     ]
    }
   ],
   "source": [
    "num1 = int(input('Enter first number: '))\n",
    "num2 = int(input('Enter second number: '))\n",
    "\n",
    "result = num1+num2\n",
    "print('Result =', result)"
   ]
  },
  {
   "cell_type": "markdown",
   "id": "bf96b69a",
   "metadata": {},
   "source": [
    "#### eval()"
   ]
  },
  {
   "cell_type": "markdown",
   "id": "088ba460",
   "metadata": {},
   "source": [
    "###### The eval() function evaluates the specified expression, if the expression is a legal Python statement, it will be executed. "
   ]
  },
  {
   "cell_type": "code",
   "execution_count": 28,
   "id": "b9fa452d",
   "metadata": {},
   "outputs": [
    {
     "data": {
      "text/plain": [
       "-4"
      ]
     },
     "execution_count": 28,
     "metadata": {},
     "output_type": "execute_result"
    }
   ],
   "source": [
    "eval('44+3+2-1*8-45')"
   ]
  },
  {
   "cell_type": "code",
   "execution_count": 30,
   "id": "ee2913b7",
   "metadata": {},
   "outputs": [
    {
     "name": "stdout",
     "output_type": "stream",
     "text": [
      "Enter first number: 80\n",
      "80\n"
     ]
    }
   ],
   "source": [
    "a = eval(input('Enter first number: '))\n",
    "print(a)"
   ]
  },
  {
   "cell_type": "code",
   "execution_count": 32,
   "id": "3959fb9f",
   "metadata": {},
   "outputs": [
    {
     "name": "stdout",
     "output_type": "stream",
     "text": [
      "Enter two numbers: 4,8\n",
      "(4, 8)\n"
     ]
    }
   ],
   "source": [
    "b = eval(input('Enter two numbers: '))\n",
    "print(b)"
   ]
  },
  {
   "cell_type": "code",
   "execution_count": 37,
   "id": "859c9030",
   "metadata": {
    "scrolled": true
   },
   "outputs": [
    {
     "name": "stdout",
     "output_type": "stream",
     "text": [
      "Enter first number: 34\n",
      "Enter second number: 56\n",
      "Result = 90\n"
     ]
    }
   ],
   "source": [
    "num1 = eval(input('Enter first number: '))\n",
    "num2 = eval(input('Enter second number: '))\n",
    "result = num1+num2\n",
    "print('Result =', result)"
   ]
  },
  {
   "cell_type": "markdown",
   "id": "dd85c65e",
   "metadata": {},
   "source": [
    "#### Conditional statements"
   ]
  },
  {
   "cell_type": "code",
   "execution_count": 8,
   "id": "18938c42",
   "metadata": {},
   "outputs": [
    {
     "name": "stdout",
     "output_type": "stream",
     "text": [
      "Enter a number: 10\n",
      "10 is greater than 5\n",
      "Hello\n"
     ]
    }
   ],
   "source": [
    "x = int(input('Enter a number: '))\n",
    "if x>5:\n",
    "    print(x, 'is greater than 5')\n",
    "else:\n",
    "    print(x, 'is less than 5')\n",
    "print('Hello')"
   ]
  },
  {
   "cell_type": "code",
   "execution_count": 9,
   "id": "b8e3fdd5",
   "metadata": {},
   "outputs": [
    {
     "ename": "IndentationError",
     "evalue": "expected an indented block (2066755845.py, line 3)",
     "output_type": "error",
     "traceback": [
      "\u001b[1;36m  Input \u001b[1;32mIn [9]\u001b[1;36m\u001b[0m\n\u001b[1;33m    print('Hello')\u001b[0m\n\u001b[1;37m    ^\u001b[0m\n\u001b[1;31mIndentationError\u001b[0m\u001b[1;31m:\u001b[0m expected an indented block\n"
     ]
    }
   ],
   "source": [
    "x = int(input('Enter a number: '))\n",
    "if x>5:\n",
    "    pass\n",
    "print('Hello')"
   ]
  },
  {
   "cell_type": "code",
   "execution_count": 11,
   "id": "b01a3ae9",
   "metadata": {},
   "outputs": [
    {
     "name": "stdout",
     "output_type": "stream",
     "text": [
      "Enter theory marks: 85\n",
      "Enter practical marks: 45\n",
      "result fail \n"
     ]
    }
   ],
   "source": [
    "theory = int(input('Enter theory marks: '))\n",
    "practical = int(input('Enter practical marks: '))\n",
    "\n",
    "if theory>=50 and practical>=50:\n",
    "    print('result is pass ')\n",
    "else:\n",
    "    print('result fail ')"
   ]
  },
  {
   "cell_type": "code",
   "execution_count": 13,
   "id": "0a60e974",
   "metadata": {},
   "outputs": [
    {
     "name": "stdout",
     "output_type": "stream",
     "text": [
      "Enter theory marks: 48\n",
      "Enter practical marks: 47\n",
      "Enter attendance: 87\n",
      "result is pass \n"
     ]
    }
   ],
   "source": [
    "theory = int(input('Enter theory marks: '))\n",
    "practical = int(input('Enter practical marks: '))\n",
    "attendance = int(input('Enter attendance: '))\n",
    "\n",
    "\n",
    "if (theory>=50 and practical>=50) or attendance>=85:\n",
    "    print('result is pass ')\n",
    "else:\n",
    "    print('result fail ')"
   ]
  },
  {
   "cell_type": "code",
   "execution_count": 17,
   "id": "30d94854",
   "metadata": {},
   "outputs": [
    {
     "name": "stdout",
     "output_type": "stream",
     "text": [
      "Enter a number: -8\n",
      "-8  is negative\n"
     ]
    }
   ],
   "source": [
    "num = int(input('Enter a number: '))\n",
    "\n",
    "if num>0:\n",
    "    print(num, ' is positive')\n",
    "elif num<0:\n",
    "    print(num, ' is negative')\n",
    "else:\n",
    "    print(num, ' is zero')"
   ]
  },
  {
   "cell_type": "markdown",
   "id": "3c310588",
   "metadata": {},
   "source": [
    "#### Loops in Python"
   ]
  },
  {
   "cell_type": "code",
   "execution_count": null,
   "id": "94da9acb",
   "metadata": {},
   "outputs": [],
   "source": [
    "# 1. for\n",
    "# 2. while"
   ]
  },
  {
   "cell_type": "code",
   "execution_count": null,
   "id": "c6276144",
   "metadata": {},
   "outputs": [],
   "source": [
    "for target in object:\n",
    "    statements"
   ]
  },
  {
   "cell_type": "code",
   "execution_count": null,
   "id": "6ccb8f23",
   "metadata": {},
   "outputs": [],
   "source": [
    "range(1,5,1) - 1,2,3,4\n",
    "range(1,6) - 1,2,3,4,5\n",
    "range(5) - 0,1,2,3,4\n",
    "range(1,6,2) - 1,3,5\n",
    "range(6,1,-1) - 6,5,4,3,2"
   ]
  },
  {
   "cell_type": "code",
   "execution_count": 21,
   "id": "88dd428c",
   "metadata": {},
   "outputs": [
    {
     "name": "stdout",
     "output_type": "stream",
     "text": [
      "1\n",
      "2\n",
      "3\n",
      "4\n",
      "5\n"
     ]
    }
   ],
   "source": [
    "for i in range(1,6):\n",
    "    print(i)"
   ]
  },
  {
   "cell_type": "code",
   "execution_count": 22,
   "id": "7eea6055",
   "metadata": {},
   "outputs": [
    {
     "name": "stdout",
     "output_type": "stream",
     "text": [
      "2\n",
      "4\n",
      "6\n",
      "8\n"
     ]
    }
   ],
   "source": [
    "for i in range(2,10,2):\n",
    "    print(i)"
   ]
  },
  {
   "cell_type": "code",
   "execution_count": 23,
   "id": "e7ec581b",
   "metadata": {},
   "outputs": [],
   "source": [
    "for i in range(5,5):\n",
    "    print(i)"
   ]
  },
  {
   "cell_type": "code",
   "execution_count": 24,
   "id": "8cdab0cd",
   "metadata": {
    "scrolled": true
   },
   "outputs": [
    {
     "name": "stdout",
     "output_type": "stream",
     "text": [
      "0\n",
      "2\n",
      "4\n",
      "6\n",
      "8\n"
     ]
    }
   ],
   "source": [
    "for i in range(10):\n",
    "    if i%2==0:\n",
    "        print(i)"
   ]
  },
  {
   "cell_type": "code",
   "execution_count": null,
   "id": "5d424659",
   "metadata": {},
   "outputs": [],
   "source": [
    "#Syntax:\n",
    "while condition:\n",
    "    statements..."
   ]
  },
  {
   "cell_type": "code",
   "execution_count": 25,
   "id": "f96f2382",
   "metadata": {
    "scrolled": true
   },
   "outputs": [
    {
     "name": "stdout",
     "output_type": "stream",
     "text": [
      "0\n",
      "1\n",
      "2\n",
      "3\n",
      "4\n",
      "5\n"
     ]
    }
   ],
   "source": [
    "i = 0\n",
    "while i<=5:\n",
    "    print(i)\n",
    "    i+=1"
   ]
  },
  {
   "cell_type": "markdown",
   "id": "6a981a93",
   "metadata": {},
   "source": [
    "##### break"
   ]
  },
  {
   "cell_type": "code",
   "execution_count": 29,
   "id": "f7379df5",
   "metadata": {
    "scrolled": true
   },
   "outputs": [
    {
     "name": "stdout",
     "output_type": "stream",
     "text": [
      "1\n",
      "2\n",
      "3\n",
      "4\n"
     ]
    }
   ],
   "source": [
    "for i in range(1,5):\n",
    "    if i==13:\n",
    "        break\n",
    "    print(i)"
   ]
  },
  {
   "cell_type": "markdown",
   "id": "38a5851c",
   "metadata": {},
   "source": [
    "##### for loop with else..."
   ]
  },
  {
   "cell_type": "code",
   "execution_count": 35,
   "id": "c4dd7f78",
   "metadata": {},
   "outputs": [
    {
     "name": "stdout",
     "output_type": "stream",
     "text": [
      "1\n",
      "2\n",
      "3\n"
     ]
    }
   ],
   "source": [
    "for i in range(1,6):\n",
    "    if i==4:\n",
    "        break\n",
    "    print(i)\n",
    "else:\n",
    "    print('End of program')"
   ]
  },
  {
   "cell_type": "code",
   "execution_count": 2,
   "id": "20cfaea1",
   "metadata": {
    "scrolled": true
   },
   "outputs": [
    {
     "name": "stdout",
     "output_type": "stream",
     "text": [
      "Not ok\n",
      "Not ok\n",
      "ok\n",
      "Not ok\n",
      "Not ok\n"
     ]
    }
   ],
   "source": [
    "for i in range(0,10,2): # i =0,2,4,6,8\n",
    "    if i==4:\n",
    "        print('ok')\n",
    "    else:\n",
    "        print('Not ok')"
   ]
  },
  {
   "cell_type": "markdown",
   "id": "80886d5b",
   "metadata": {},
   "source": [
    "##### Write a program to check whether a number is prime or not"
   ]
  },
  {
   "cell_type": "code",
   "execution_count": 5,
   "id": "908c8ac3",
   "metadata": {},
   "outputs": [
    {
     "name": "stdout",
     "output_type": "stream",
     "text": [
      "Enter a number: 37\n",
      "37 is prime\n"
     ]
    }
   ],
   "source": [
    "num = int(input('Enter a number: '))\n",
    "\n",
    "for i in range(2,num): # i=2,3 \n",
    "    if num%i==0:\n",
    "        print(num, 'is not prime')\n",
    "        break\n",
    "else:\n",
    "    print(num, 'is prime')"
   ]
  },
  {
   "cell_type": "markdown",
   "id": "93c38dfe",
   "metadata": {},
   "source": [
    "##### Whether a given number is palindrome or not"
   ]
  },
  {
   "cell_type": "code",
   "execution_count": 9,
   "id": "cc994557",
   "metadata": {},
   "outputs": [
    {
     "name": "stdout",
     "output_type": "stream",
     "text": [
      "Enter a number: 4215\n",
      "4215 is not pallindrome\n"
     ]
    }
   ],
   "source": [
    "num = int(input('Enter a number: '))\n",
    "# temp contains copy of num\n",
    "temp = num\n",
    "\n",
    "rev = 0\n",
    "\n",
    "while num!=0:\n",
    "    digit = num%10 \n",
    "    rev = rev*10+digit    \n",
    "    num = num//10 \n",
    "if temp==rev:\n",
    "    print(temp, 'is pallindrome')\n",
    "else:\n",
    "    print(temp, 'is not pallindrome')"
   ]
  },
  {
   "cell_type": "markdown",
   "id": "26385bae",
   "metadata": {},
   "source": [
    "##### WAP to find out whether a number is armstrong or not"
   ]
  },
  {
   "cell_type": "code",
   "execution_count": 10,
   "id": "ef04024e",
   "metadata": {},
   "outputs": [
    {
     "name": "stdout",
     "output_type": "stream",
     "text": [
      "Enter a number: 153\n",
      "153 is Armstrong\n"
     ]
    }
   ],
   "source": [
    "num = int(input('Enter a number: '))\n",
    "\n",
    "temp = num\n",
    "sum = 0\n",
    "\n",
    "while num!=0:\n",
    "    digit = num%10 # 3,5,1\n",
    "    sum = sum + digit**3    \n",
    "    num = num//10 \n",
    "\n",
    "if temp == sum:\n",
    "    print(temp, 'is Armstrong')"
   ]
  },
  {
   "cell_type": "markdown",
   "id": "797d29d7",
   "metadata": {},
   "source": [
    "##### Nested loops"
   ]
  },
  {
   "cell_type": "code",
   "execution_count": 21,
   "id": "b998de78",
   "metadata": {},
   "outputs": [
    {
     "name": "stdout",
     "output_type": "stream",
     "text": [
      "1,1 1,2 1,3 \n",
      "2,1 2,2 2,3 \n",
      "3,1 3,2 3,3 \n"
     ]
    }
   ],
   "source": [
    "for i in range(1,4):\n",
    "    for j in range(1,4):\n",
    "        print(i,j,sep=',', end=' ')\n",
    "    print()"
   ]
  },
  {
   "cell_type": "code",
   "execution_count": 25,
   "id": "276ce7e3",
   "metadata": {},
   "outputs": [
    {
     "name": "stdout",
     "output_type": "stream",
     "text": [
      "* * * * * \n",
      "* * * * * \n",
      "* * * * * \n",
      "* * * * * \n",
      "* * * * * \n"
     ]
    }
   ],
   "source": [
    "for i in range(1,6):\n",
    "    for j in range(1,6):\n",
    "        print('*', end=' ')\n",
    "    print()"
   ]
  },
  {
   "cell_type": "code",
   "execution_count": 26,
   "id": "4acecb0c",
   "metadata": {},
   "outputs": [
    {
     "name": "stdout",
     "output_type": "stream",
     "text": [
      "\n",
      "* \n",
      "* * \n",
      "* * * \n",
      "* * * * \n"
     ]
    }
   ],
   "source": [
    "for i in range(1,6):\n",
    "    for j in range(1,6):\n",
    "        if i==j:\n",
    "            break\n",
    "        print('*', end=' ')\n",
    "    print()"
   ]
  },
  {
   "cell_type": "code",
   "execution_count": 27,
   "id": "bd7600c3",
   "metadata": {},
   "outputs": [
    {
     "name": "stdout",
     "output_type": "stream",
     "text": [
      "* \n",
      "* * \n",
      "* * * \n",
      "* * * * \n",
      "* * * * * \n"
     ]
    }
   ],
   "source": [
    "for i in range(1,6):\n",
    "    for j in range(1,i+1):\n",
    "        print('*', end=' ')\n",
    "    print()"
   ]
  },
  {
   "cell_type": "code",
   "execution_count": 30,
   "id": "5813812b",
   "metadata": {
    "scrolled": true
   },
   "outputs": [
    {
     "name": "stdout",
     "output_type": "stream",
     "text": [
      "1 \n",
      "1 2 \n",
      "1 2 3 \n",
      "1 2 3 4 \n",
      "1 2 3 4 5 \n"
     ]
    }
   ],
   "source": [
    "for i in range(1,6):\n",
    "    for j in range(1,i+1):\n",
    "        print(j, end=' ')\n",
    "    print()"
   ]
  },
  {
   "cell_type": "markdown",
   "id": "642686d6",
   "metadata": {},
   "source": [
    "##### WAP to print all the prime numbers in a given range"
   ]
  },
  {
   "cell_type": "code",
   "execution_count": 32,
   "id": "ed3f53cb",
   "metadata": {},
   "outputs": [
    {
     "name": "stdout",
     "output_type": "stream",
     "text": [
      "Enter a number: 10\n",
      "Enter a number: 50\n",
      "11 is prime\n",
      "13 is prime\n",
      "17 is prime\n",
      "19 is prime\n",
      "23 is prime\n",
      "29 is prime\n",
      "31 is prime\n",
      "37 is prime\n",
      "41 is prime\n",
      "43 is prime\n",
      "47 is prime\n"
     ]
    }
   ],
   "source": [
    "lower = int(input('Enter a number: '))\n",
    "upper = int(input('Enter a number: '))\n",
    "\n",
    "for num in range(lower, upper+1):\n",
    "    for i in range(2,num): \n",
    "        if num%i==0:\n",
    "            #print(num, 'is not prime')\n",
    "            break\n",
    "    else:\n",
    "        print(num, 'is prime')"
   ]
  },
  {
   "cell_type": "code",
   "execution_count": null,
   "id": "8e3b5fba",
   "metadata": {},
   "outputs": [],
   "source": []
  }
 ],
 "metadata": {
  "kernelspec": {
   "display_name": "Python 3 (ipykernel)",
   "language": "python",
   "name": "python3"
  },
  "language_info": {
   "codemirror_mode": {
    "name": "ipython",
    "version": 3
   },
   "file_extension": ".py",
   "mimetype": "text/x-python",
   "name": "python",
   "nbconvert_exporter": "python",
   "pygments_lexer": "ipython3",
   "version": "3.9.12"
  }
 },
 "nbformat": 4,
 "nbformat_minor": 5
}
