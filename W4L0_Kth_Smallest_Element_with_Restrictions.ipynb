{
  "nbformat": 4,
  "nbformat_minor": 0,
  "metadata": {
    "colab": {
      "provenance": [],
      "authorship_tag": "ABX9TyOcjjtuuJpV+yqTA1Tg6oB+",
      "include_colab_link": true
    },
    "kernelspec": {
      "name": "python3",
      "display_name": "Python 3"
    },
    "language_info": {
      "name": "python"
    }
  },
  "cells": [
    {
      "cell_type": "markdown",
      "metadata": {
        "id": "view-in-github",
        "colab_type": "text"
      },
      "source": [
        "<a href=\"https://colab.research.google.com/github/wingsryder/python-ai-ml/blob/main/W4L0_Kth_Smallest_Element_with_Restrictions.ipynb\" target=\"_parent\"><img src=\"https://colab.research.google.com/assets/colab-badge.svg\" alt=\"Open In Colab\"/></a>"
      ]
    },
    {
      "cell_type": "code",
      "execution_count": null,
      "metadata": {
        "id": "NZ2q1011D9ul"
      },
      "outputs": [],
      "source": [
        "'''\n",
        "Title: Kth Smallest Element with Restrictions\n",
        "\n",
        "Question:\n",
        "Given an unsorted list of integers, find the kth smallest element without using thesort()function. Implement the selection algorithm to achieve this.\n",
        "\n",
        "Input Description:\n",
        "The first line contains an integern, the number of elements in the list.\n",
        "The second line containsnspace-separated integers representing the listnums.\n",
        "The third line contains an integerk, representing the position of the smallest element to find.\n",
        "\n",
        "Output Description:\n",
        "A single integer representing the kth smallest element.\n",
        "\n",
        "Sample:\n",
        "6\n",
        "[7,10,4,3,20,15]\n",
        "3\n",
        "\n",
        "Output:\n",
        "7\n",
        "\n",
        "Hint: used selection sort algorithm\n",
        "'''\n",
        "\n",
        "def solve(n, nums, k):\n",
        "    for i in range(n):\n",
        "      min_index = i\n",
        "      for j in range(i+1,n):\n",
        "        if nums[j] < nums[min_index] :\n",
        "          min_index = j\n",
        "\n",
        "      nums[i],nums[min_index] = nums[min_index] ,nums[i]\n",
        "\n",
        "    return nums[k-1]\n",
        "\n",
        "\n",
        "solve(6,[7, 10, 4, 3, 20, 15],3)"
      ]
    }
  ]
}